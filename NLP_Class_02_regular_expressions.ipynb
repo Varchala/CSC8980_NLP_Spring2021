{
  "nbformat": 4,
  "nbformat_minor": 0,
  "metadata": {
    "colab": {
      "name": "NLP_Class_02_regular_expressions.ipynb",
      "provenance": [],
      "authorship_tag": "ABX9TyOR7wxyQaipv8AWKjUY8pF7",
      "include_colab_link": true
    },
    "kernelspec": {
      "name": "python3",
      "display_name": "Python 3"
    }
  },
  "cells": [
    {
      "cell_type": "markdown",
      "metadata": {
        "id": "view-in-github",
        "colab_type": "text"
      },
      "source": [
        "<a href=\"https://colab.research.google.com/github/jmbanda/CSC8980_NLP_Spring2021/blob/main/NLP_Class_02_regular_expressions.ipynb\" target=\"_parent\"><img src=\"https://colab.research.google.com/assets/colab-badge.svg\" alt=\"Open In Colab\"/></a>"
      ]
    },
    {
      "cell_type": "markdown",
      "metadata": {
        "id": "t60ijSqdcFv_"
      },
      "source": [
        "**CSC 8980 - NLP**\r\n",
        "\r\n",
        "**Class 02 - Regular Expressions - Python Examples**"
      ]
    },
    {
      "cell_type": "markdown",
      "metadata": {
        "id": "qiiCmJPZWW1Q"
      },
      "source": [
        "Python example:"
      ]
    },
    {
      "cell_type": "code",
      "metadata": {
        "id": "5bpVR2pKWEsZ"
      },
      "source": [
        "s1 = 'public'\r\n",
        "s2 = 'public'\r\n",
        "s2 == s1 "
      ],
      "execution_count": null,
      "outputs": []
    },
    {
      "cell_type": "markdown",
      "metadata": {
        "id": "3p5IwBb_Wvqf"
      },
      "source": [
        "Load the following file - https://www.learningcontainer.com/wp-content/uploads/2020/04/sample-text-file.txt"
      ]
    },
    {
      "cell_type": "markdown",
      "metadata": {
        "id": "XVUXHQubX6yt"
      },
      "source": [
        "We now look in the file for all occurrences of the 'ipsum' string:"
      ]
    },
    {
      "cell_type": "code",
      "metadata": {
        "id": "Wnl0ziEvWgJ7"
      },
      "source": [
        "myword = \"ipsum\"\r\n",
        "with open(\"/content/sample-text-file.txt\") as openfile:\r\n",
        "    for line in openfile:\r\n",
        "       if myword in line:\r\n",
        "                print (line)"
      ],
      "execution_count": null,
      "outputs": []
    },
    {
      "cell_type": "markdown",
      "metadata": {
        "id": "-cR2EHIpYpeW"
      },
      "source": [
        "**Regular Expressions in Python**\r\n",
        "\r\n",
        "Example 1"
      ]
    },
    {
      "cell_type": "code",
      "metadata": {
        "id": "cVnl9nzKYrSm"
      },
      "source": [
        "import re\r\n",
        "sent = \"This book on tennis cost $3.99 at Walmart.\"\r\n",
        "p1 = re.compile(\"ten\")\r\n",
        "m1 = p1.match(sent)\r\n",
        "m1"
      ],
      "execution_count": 8,
      "outputs": []
    },
    {
      "cell_type": "markdown",
      "metadata": {
        "id": "5Ljik4jcY4uR"
      },
      "source": [
        "Example 2 "
      ]
    },
    {
      "cell_type": "code",
      "metadata": {
        "id": "KaFBpjdUY0Ih"
      },
      "source": [
        "p2 = re.compile(\".*ten.*\")\r\n",
        "m2 = p2.match(sent)\r\n",
        "m2"
      ],
      "execution_count": null,
      "outputs": []
    },
    {
      "cell_type": "markdown",
      "metadata": {
        "id": "ZVigZdVwZBk1"
      },
      "source": [
        "Example 3"
      ]
    },
    {
      "cell_type": "code",
      "metadata": {
        "id": "EltA1TRcZCqO"
      },
      "source": [
        "m3 = re.search(p1,sent)\r\n",
        "m3"
      ],
      "execution_count": null,
      "outputs": []
    },
    {
      "cell_type": "markdown",
      "metadata": {
        "id": "un83-_R1ZZJ_"
      },
      "source": [
        "Example 4"
      ]
    },
    {
      "cell_type": "code",
      "metadata": {
        "id": "bVPSVr9GZazW"
      },
      "source": [
        "m4 = re.search(p2,sent)\r\n",
        "m4"
      ],
      "execution_count": null,
      "outputs": []
    },
    {
      "cell_type": "markdown",
      "metadata": {
        "id": "yy0VezoPZhUE"
      },
      "source": [
        "Example 5"
      ]
    },
    {
      "cell_type": "code",
      "metadata": {
        "id": "tCkfLv5dZmKW"
      },
      "source": [
        "pp1 = re.compile(\"is\")\r\n",
        "m5 = re.findall(pp1, sent)\r\n",
        "m5"
      ],
      "execution_count": null,
      "outputs": []
    },
    {
      "cell_type": "markdown",
      "metadata": {
        "id": "6K8IIrmsZqCB"
      },
      "source": [
        "Example 6"
      ]
    },
    {
      "cell_type": "code",
      "metadata": {
        "id": "Y-9xXi4VZrXA"
      },
      "source": [
        "pp2 = re.compile(\"\\\\d\")\r\n",
        "m6 = re.search(pp2, sent)\r\n",
        "m6"
      ],
      "execution_count": null,
      "outputs": []
    },
    {
      "cell_type": "markdown",
      "metadata": {
        "id": "-JcUo5eBZ1EU"
      },
      "source": [
        "Example 7"
      ]
    },
    {
      "cell_type": "code",
      "metadata": {
        "id": "18eUS_YBZ3SC"
      },
      "source": [
        "pp3 = re.compile(\"\\\\d+\")\r\n",
        "m7 = re.search(pp3, sent)\r\n",
        "m7"
      ],
      "execution_count": null,
      "outputs": []
    },
    {
      "cell_type": "markdown",
      "metadata": {
        "id": "aihntLkDaAAK"
      },
      "source": [
        "Example 8"
      ]
    },
    {
      "cell_type": "code",
      "metadata": {
        "id": "8-y2_1hRaCx2"
      },
      "source": [
        "pp3 = re.compile(\"\\\\$\\\\d+\\\\.\\\\d\\\\d\")\r\n",
        "m8 = re.search(pp3, sent)\r\n",
        "m8"
      ],
      "execution_count": null,
      "outputs": []
    },
    {
      "cell_type": "markdown",
      "metadata": {
        "id": "ETmlKP5faHW6"
      },
      "source": [
        "Example 9"
      ]
    },
    {
      "cell_type": "code",
      "metadata": {
        "id": "00gyyxRnaIyd"
      },
      "source": [
        "pp4 = re.compile(r\"\\$\\d+\\.\\d\\d\")\r\n",
        "m9 = re.search(pp4, sent)\r\n",
        "m9"
      ],
      "execution_count": null,
      "outputs": []
    },
    {
      "cell_type": "markdown",
      "metadata": {
        "id": "XQkBv2XXaMoD"
      },
      "source": [
        "**Regular Expressions - Groups**\r\n",
        "\r\n",
        "Example 10"
      ]
    },
    {
      "cell_type": "code",
      "metadata": {
        "id": "v5U28sEYbY28"
      },
      "source": [
        "ppp1 = re.compile(\"(\\\\w+) cost (\\\\$\\\\d+\\\\.\\\\d\\\\d)\")\r\n",
        "mm1 = re.search(ppp1, sent)\r\n",
        "mm1"
      ],
      "execution_count": null,
      "outputs": []
    },
    {
      "cell_type": "code",
      "metadata": {
        "id": "5UfF_2pAblTQ"
      },
      "source": [
        "mm1.group(0)"
      ],
      "execution_count": null,
      "outputs": []
    },
    {
      "cell_type": "code",
      "metadata": {
        "id": "WsZ5KQt9bpLJ"
      },
      "source": [
        "mm1.group(1)"
      ],
      "execution_count": null,
      "outputs": []
    },
    {
      "cell_type": "code",
      "metadata": {
        "id": "3unHYX0WbsLn"
      },
      "source": [
        "mm1.group(2)"
      ],
      "execution_count": null,
      "outputs": []
    }
  ]
}